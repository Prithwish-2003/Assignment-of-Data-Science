{
 "cells": [
  {
   "cell_type": "code",
   "execution_count": null,
   "id": "8a579e15-5693-4c4e-9a67-00130eb2545f",
   "metadata": {},
   "outputs": [],
   "source": [
    "Q1. Create a function which will take a list as an argument and return the product of all the numbers \n",
    "after creating a flat list.\n",
    "\n",
    "Use the below-given list as an argument for your function."
   ]
  },
  {
   "cell_type": "code",
   "execution_count": 2,
   "id": "d38798ed-87bf-45ea-ad99-128016bebc25",
   "metadata": {},
   "outputs": [],
   "source": [
    "l1 = [1,2,3,4, [44,55,66, True], False, (34,56,78,89,34), {1,2,3,3,2,1}, {1:34, \"key2\": [55, 67, 78, 89], 4: (45, \n",
    "22, 61, 34)}, [56, 'data science'], 'Machine Learning']"
   ]
  },
  {
   "cell_type": "code",
   "execution_count": 8,
   "id": "89dded3e-4bce-4422-89a1-04749243ecdc",
   "metadata": {},
   "outputs": [
    {
     "data": {
      "text/plain": [
       "[1, 2, 3, 4, 44, 55, 66, 34, 56, 78, 89, 34, 1, 2, 3, 1, 4, 56]"
      ]
     },
     "execution_count": 8,
     "metadata": {},
     "output_type": "execute_result"
    }
   ],
   "source": [
    "l2=[]\n",
    "for i in l1:\n",
    "    if (type(i)==list):\n",
    "        for j in i:\n",
    "            if type(j)==int:\n",
    "                l2.append(j)\n",
    "    if (type(i)==tuple):\n",
    "        for j in i:\n",
    "            if type(j)==int:\n",
    "                l2.append(j)\n",
    "    elif (type(i)==dict):\n",
    "        for j in i:\n",
    "            if (type(j)==int ):\n",
    "                l2.append(j)\n",
    "        ##for m in j:\n",
    "            ##if(type(m)== int):\n",
    "              ##  l2.append(m)\n",
    "    elif (type(i)==set):\n",
    "        for j in i:\n",
    "            if type(j)==int:\n",
    "                l2.append(j)\n",
    "        \n",
    "                \n",
    "    else:\n",
    "        if type(i)==int:\n",
    "            l2.append(i)\n",
    "l2"
   ]
  },
  {
   "cell_type": "code",
   "execution_count": 11,
   "id": "f2d7ee6f-ec40-4ca1-a7fc-35bd552c0160",
   "metadata": {
    "tags": []
   },
   "outputs": [
    {
     "name": "stdout",
     "output_type": "stream",
     "text": [
      "2315262738624675840\n"
     ]
    }
   ],
   "source": [
    " product=1\n",
    "for i in l2:\n",
    "    product=product*i;\n",
    "    i+=1\n",
    "print(product)"
   ]
  },
  {
   "cell_type": "code",
   "execution_count": null,
   "id": "5c5599c0-aada-4c18-bbef-a902b4496738",
   "metadata": {},
   "outputs": [],
   "source": [
    "Write a python program for encrypting a message sent to you by your friend. The logic of encryption \n",
    "should be such that, for a the output should be z. For b, the output should be y. For c, the output should \n",
    "be x respectively. Also, the whitespace should be replaced with a dollar sign. Keep the punctuation \n",
    "marks unchanged.\n",
    "\n",
    "\n",
    "Input Sentence: I want to become a Data Scientist.\n",
    "\n",
    "\n",
    "Encrypt the above input sentence using the program you just created"
   ]
  },
  {
   "cell_type": "code",
   "execution_count": 23,
   "id": "531c366a-b9f2-461b-a037-fd3681eb5791",
   "metadata": {},
   "outputs": [],
   "source": [
    "s=\"i want to become a data scientist\""
   ]
  },
  {
   "cell_type": "code",
   "execution_count": 24,
   "id": "209b15d4-d3c8-432d-bfbc-46035ee795a6",
   "metadata": {},
   "outputs": [
    {
     "data": {
      "text/plain": [
       "33"
      ]
     },
     "execution_count": 24,
     "metadata": {},
     "output_type": "execute_result"
    }
   ],
   "source": [
    "len(s)"
   ]
  },
  {
   "cell_type": "code",
   "execution_count": 29,
   "id": "b1327bc1-d26a-47a4-88aa-a27b868e68f9",
   "metadata": {},
   "outputs": [
    {
     "data": {
      "text/plain": [
       "'i$wznt$to$yexome$z$dztz$sxientist'"
      ]
     },
     "execution_count": 29,
     "metadata": {},
     "output_type": "execute_result"
    }
   ],
   "source": [
    "s1=\"\"\n",
    "for i in range(len(s)):\n",
    "    if(s[i]==\"a\"):\n",
    "        s1+=\"z\"\n",
    "   ## else:\n",
    "        ##s1+=s[i]\n",
    "    elif (s[i]==\"b\"):\n",
    "        s1+=\"y\"\n",
    "   ## else:\n",
    "      ##  s1+=s[i]\n",
    "    elif(s[i]==\"c\"):\n",
    "        s1+=\"x\"\n",
    "   ## else:\n",
    "        ##s1+=s[i]\n",
    "    elif(s[i]==\" \"):\n",
    "        s1+=\"$\"\n",
    "    else:\n",
    "        s1+=s[i]\n",
    "s1"
   ]
  },
  {
   "cell_type": "code",
   "execution_count": null,
   "id": "186c70b8-0169-41e7-92c2-96134709b6ac",
   "metadata": {},
   "outputs": [],
   "source": []
  }
 ],
 "metadata": {
  "kernelspec": {
   "display_name": "Python 3 (ipykernel)",
   "language": "python",
   "name": "python3"
  },
  "language_info": {
   "codemirror_mode": {
    "name": "ipython",
    "version": 3
   },
   "file_extension": ".py",
   "mimetype": "text/x-python",
   "name": "python",
   "nbconvert_exporter": "python",
   "pygments_lexer": "ipython3",
   "version": "3.10.6"
  }
 },
 "nbformat": 4,
 "nbformat_minor": 5
}
