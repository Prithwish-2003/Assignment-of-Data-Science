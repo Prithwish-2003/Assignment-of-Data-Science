{
 "cells": [
  {
   "cell_type": "code",
   "execution_count": null,
   "id": "794a8044-b99d-478b-b635-bc086030ecb4",
   "metadata": {},
   "outputs": [],
   "source": [
    "  Explain with an example each when to use a for loop and a while loop"
   ]
  },
  {
   "cell_type": "code",
   "execution_count": null,
   "id": "56a515ea-7f58-41f5-85fb-c79a59327385",
   "metadata": {},
   "outputs": [],
   "source": [
    "for loop: When we have a block of code which we want to repeat a fixed number of time.\n",
    "While loop :In Python programming, we use while loops to do a task a certain number of times repeatedly. The while loop checks a condition and executes the task as long as that condition is satisfied. The loop will stop its execution once the condition becomes not satisfied.\n"
   ]
  },
  {
   "cell_type": "code",
   "execution_count": 2,
   "id": "946cfc46-b6bf-46a3-9a46-f14df8987b4b",
   "metadata": {},
   "outputs": [
    {
     "name": "stdout",
     "output_type": "stream",
     "text": [
      "5\n",
      "4\n",
      "3\n",
      "2\n",
      "1\n"
     ]
    }
   ],
   "source": [
    "for i in range (5,0,-1):\n",
    "    \n",
    "    print (i)\n",
    "    "
   ]
  },
  {
   "cell_type": "code",
   "execution_count": 4,
   "id": "04f99ea8-6471-458a-9251-b97fbd242d84",
   "metadata": {},
   "outputs": [
    {
     "name": "stdout",
     "output_type": "stream",
     "text": [
      "1 2 3 4 5 6 7 8 9 "
     ]
    }
   ],
   "source": [
    "n = 10\n",
    "i = 1\n",
    "while (i<n):\n",
    "    print (i,end = \" \")\n",
    "    i +=1\n",
    "    "
   ]
  },
  {
   "cell_type": "code",
   "execution_count": null,
   "id": "46b24312-0441-4936-9bf3-c45f3ca2b49a",
   "metadata": {},
   "outputs": [],
   "source": [
    "Write a python program to print the sum and product of the first 10 natural numbers using for \n",
    "and while loop"
   ]
  },
  {
   "cell_type": "code",
   "execution_count": 5,
   "id": "c3ff0e59-27cb-4a36-93b0-48cfd69c15ab",
   "metadata": {},
   "outputs": [
    {
     "name": "stdout",
     "output_type": "stream",
     "text": [
      "sum = 55\n"
     ]
    }
   ],
   "source": [
    "sum =0\n",
    "for i in range (1,11):\n",
    "    sum = sum +i\n",
    "print (\"sum\",\"=\",sum)"
   ]
  },
  {
   "cell_type": "code",
   "execution_count": 6,
   "id": "b897a8c4-d8dd-4981-9f31-5c305d1ff5f1",
   "metadata": {},
   "outputs": [
    {
     "name": "stdout",
     "output_type": "stream",
     "text": [
      "product = 3628800\n"
     ]
    }
   ],
   "source": [
    "product =1\n",
    "for i in range (1,11):\n",
    "    product = product*i\n",
    "print (\"product\",\"=\",product)"
   ]
  },
  {
   "cell_type": "code",
   "execution_count": 13,
   "id": "1a0a5d43-ee46-4dd9-9c3c-ffa9c1bd2196",
   "metadata": {},
   "outputs": [
    {
     "name": "stdout",
     "output_type": "stream",
     "text": [
      "3628800\n"
     ]
    }
   ],
   "source": [
    "product =1\n",
    "count=10\n",
    "while count>0:\n",
    "    product = product*count\n",
    "    count= count-1\n",
    "print(product)"
   ]
  },
  {
   "cell_type": "code",
   "execution_count": 4,
   "id": "a4073b22-73c5-4eca-8cfe-e2f3c6f43f26",
   "metadata": {},
   "outputs": [
    {
     "name": "stdout",
     "output_type": "stream",
     "text": [
      "sum = 55\n"
     ]
    }
   ],
   "source": [
    "sum =0\n",
    "count=10\n",
    "while count>0:\n",
    "    sum = sum +count\n",
    "    count=count-1\n",
    "print (\"sum\",\"=\",sum)"
   ]
  },
  {
   "cell_type": "code",
   "execution_count": null,
   "id": "c59f7440-77fb-42b4-9dd9-fc343507df62",
   "metadata": {},
   "outputs": [],
   "source": [
    " Write a program to filter count vowels in the below-given string.\n",
    "\n",
    "string = \"I want to become a data scientist"
   ]
  },
  {
   "cell_type": "code",
   "execution_count": 1,
   "id": "a1d4396d-ab53-4d6b-890d-a8759fe94bf8",
   "metadata": {},
   "outputs": [],
   "source": [
    "s=\"I want to become a data scientist\""
   ]
  },
  {
   "cell_type": "code",
   "execution_count": 4,
   "id": "85af17f2-08b9-420f-9b9e-ff31cca5a32e",
   "metadata": {},
   "outputs": [
    {
     "data": {
      "text/plain": [
       "33"
      ]
     },
     "execution_count": 4,
     "metadata": {},
     "output_type": "execute_result"
    }
   ],
   "source": [
    "len(s)"
   ]
  },
  {
   "cell_type": "code",
   "execution_count": 8,
   "id": "7640a8d0-a772-44db-87df-fa78cbd35d17",
   "metadata": {},
   "outputs": [
    {
     "name": "stdout",
     "output_type": "stream",
     "text": [
      "Total number of vowel is : 12\n"
     ]
    }
   ],
   "source": [
    "count =0\n",
    "for i in range(len(s)):\n",
    "    if s[i]=='a'or s[i]=='A':\n",
    "        count = count+1\n",
    "    \n",
    "    elif s[i]=='e'or s[i]=='E':\n",
    "        count = count+1\n",
    "    \n",
    "    elif s[i]=='i'or s[i]=='I':\n",
    "        count = count+1\n",
    "    elif s[i] == 'o' or s[i]=='O':\n",
    "        count= count +1\n",
    "    elif s[i] == 'u' or s[i]=='U':\n",
    "        count =count +1\n",
    "print(\"Total number of vowel is :\",count)   "
   ]
  },
  {
   "cell_type": "code",
   "execution_count": null,
   "id": "a74c4692-b277-4174-a93a-2849ebec2e71",
   "metadata": {},
   "outputs": [],
   "source": [
    "Create a list of numbers from 1 to 100. Use for loop and while loop to calculate the cube of each \n",
    "number and if the cube of that number is divisible by 4 or 5 then append that number in a list and print \n",
    "that list"
   ]
  },
  {
   "cell_type": "code",
   "execution_count": 12,
   "id": "c012015b-f247-4ff7-8259-7c703ea32f58",
   "metadata": {},
   "outputs": [
    {
     "name": "stdout",
     "output_type": "stream",
     "text": [
      "[2, 4, 5, 6, 8, 10, 12, 14, 15, 16, 18, 20, 22, 24, 25, 26, 28, 30, 32, 34, 35, 36, 38, 40, 42, 44, 45, 46, 48, 50, 52, 54, 55, 56, 58, 60, 62, 64, 65, 66, 68, 70, 72, 74, 75, 76, 78, 80, 82, 84, 85, 86, 88, 90, 92, 94, 95, 96, 98, 100]\n"
     ]
    }
   ],
   "source": [
    "l1=[]\n",
    "for i in range(1,101):\n",
    "    Cube = i*i*i\n",
    "    if Cube%4==0 or Cube%5==0:\n",
    "        l1.append(i)\n",
    "print(l1)"
   ]
  },
  {
   "cell_type": "code",
   "execution_count": null,
   "id": "3ad25f35-8811-4440-b8da-8a7f49eac308",
   "metadata": {},
   "outputs": [],
   "source": []
  }
 ],
 "metadata": {
  "kernelspec": {
   "display_name": "Python 3 (ipykernel)",
   "language": "python",
   "name": "python3"
  },
  "language_info": {
   "codemirror_mode": {
    "name": "ipython",
    "version": 3
   },
   "file_extension": ".py",
   "mimetype": "text/x-python",
   "name": "python",
   "nbconvert_exporter": "python",
   "pygments_lexer": "ipython3",
   "version": "3.10.6"
  }
 },
 "nbformat": 4,
 "nbformat_minor": 5
}
