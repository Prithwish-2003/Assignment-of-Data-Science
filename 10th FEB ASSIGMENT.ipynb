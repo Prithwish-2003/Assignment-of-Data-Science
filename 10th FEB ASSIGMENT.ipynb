{
 "cells": [
  {
   "cell_type": "code",
   "execution_count": null,
   "id": "78c1ca25-6954-4725-8183-82c5b0965070",
   "metadata": {},
   "outputs": [],
   "source": [
    "Which function is used to open a file?\n",
    "What are the different modes of opening a file? Explain each mode \n",
    "of file opening."
   ]
  },
  {
   "cell_type": "code",
   "execution_count": null,
   "id": "d95a61d6-1d98-4893-8329-aba43ef9a114",
   "metadata": {},
   "outputs": [],
   "source": [
    "Opening a file refers to getting the file ready either for reading or for writing. This can be done using the open() function. This function returns a file object and takes two arguments, one that accepts the file name and another that accepts the mode(Access Mode). "
   ]
  },
  {
   "cell_type": "code",
   "execution_count": null,
   "id": "eca1f276-6b61-4702-9301-532fc9ddadff",
   "metadata": {},
   "outputs": [],
   "source": [
    "Python file modes\n",
    "Don’t confuse, read about every mode as below.\n",
    "\n",
    "r for reading – The file pointer is placed at the beginning of the file. This is the default mode.\n",
    "r+ Opens a file for both reading and writing. The file pointer will be at the beginning of the file.\n",
    "w Opens a file for writing only. Overwrites the file if the file exists. If the file does not exist, creates a new file for writing.\n",
    "w+ Opens a file for both writing and reading. Overwrites the existing file if the file exists. If the file does not exist, it creates a new file for reading and writing.\n",
    "rb Opens a file for reading only in binary format. The file pointer is placed at the beginning of the file.\n",
    "rb+ Opens a file for both reading and writing in binary format.\n",
    "wb+ Opens a file for both writing and reading in binary format. Overwrites the existing file if the file exists. If the file does not exist, it creates a new file for reading and writing.\n",
    "a Opens a file for appending. The file pointer is at the end of the file if the file exists. That is, the file is in the append mode. If the file does not exist, it creates a new file for writing.\n",
    "ab Opens a file for appending in binary format. The file pointer is at the end of the file if the file exists. That is, the file is in the append mode. If the file does not exist, it creates a new file for writing.\n",
    "a+ Opens a file for both appending and reading. The file pointer is at the end of the file if the file exists. The file opens in the append mode. If the file does not exist, it creates a new file for reading and writing.\n",
    "ab+ Opens a file for both appending and reading in binary format. The file pointer is at the end of the file if the file exists. The file opens in the append mode. If the file does not exist, it creates a new file for reading and writing.\n",
    "x open for exclusive creation, failing if the file already exists (Python 3)"
   ]
  },
  {
   "cell_type": "code",
   "execution_count": null,
   "id": "491f8e83-0e29-403a-9add-ecb7cf1d89fd",
   "metadata": {},
   "outputs": [],
   "source": [
    "Why close() function is used? Why is it important to close a file?"
   ]
  },
  {
   "cell_type": "code",
   "execution_count": null,
   "id": "b7f88ee7-a784-45c8-bd83-effb37522991",
   "metadata": {},
   "outputs": [],
   "source": [
    "The close () function closes the connection between the program and an open file identified by a \n",
    "handle.Any unwritten system buffers are flushed to the disk, and system resources used by the file \n",
    "are released The bolded part is the prime reason why a file should be closed"
   ]
  },
  {
   "cell_type": "code",
   "execution_count": null,
   "id": "6f2ce200-a418-4c50-b5e7-4a2afeb6b2df",
   "metadata": {},
   "outputs": [],
   "source": [
    ". Write a python program to create a text file. Write ‘I want to become a Data Scientist’ in that file.\n",
    "Then close the file. Open this file and read the content of the file."
   ]
  },
  {
   "cell_type": "code",
   "execution_count": 1,
   "id": "d1bc33d5-8770-44b3-8282-a8149dede123",
   "metadata": {},
   "outputs": [],
   "source": [
    "f=open(\"Text_01.txt\",'w')"
   ]
  },
  {
   "cell_type": "code",
   "execution_count": 2,
   "id": "f225afe1-6517-45ec-8756-1a72894f018a",
   "metadata": {},
   "outputs": [
    {
     "data": {
      "text/plain": [
       "30"
      ]
     },
     "execution_count": 2,
     "metadata": {},
     "output_type": "execute_result"
    }
   ],
   "source": [
    "f.write(\"I Want To Become Data Scientis\")"
   ]
  },
  {
   "cell_type": "code",
   "execution_count": 3,
   "id": "15254e1f-35d9-4e6c-84fa-40a6ebd56ccc",
   "metadata": {},
   "outputs": [],
   "source": [
    "f.close()"
   ]
  },
  {
   "cell_type": "code",
   "execution_count": null,
   "id": "fe7c0b69-b55e-40df-beb4-438690c135e7",
   "metadata": {},
   "outputs": [],
   "source": [
    " Explain the following with python code: read(), readline() and readlines()."
   ]
  },
  {
   "cell_type": "code",
   "execution_count": null,
   "id": "14bde672-de33-48eb-ac44-3aa8f71e4488",
   "metadata": {},
   "outputs": [],
   "source": [
    "The three main functions you can use to read content from a file are read(), readline() and \n",
    "readlines().read() reads the entire file and returns a string, readline() reads just one line \n",
    "from a file, and readlines() returns a list of strings representing the lines of the file.\n",
    "\n"
   ]
  },
  {
   "cell_type": "code",
   "execution_count": 1,
   "id": "7921c341-1625-4586-afb0-2dff494e2c81",
   "metadata": {},
   "outputs": [],
   "source": [
    "with open(\"Text_01.txt\",'a') as f:\n",
    "    f.write(\"This is Prithwish.This is pouravi.\")"
   ]
  },
  {
   "cell_type": "code",
   "execution_count": 2,
   "id": "b12d4121-7f19-42bb-b0ca-90ccef78b45b",
   "metadata": {},
   "outputs": [],
   "source": [
    "f.close()"
   ]
  },
  {
   "cell_type": "code",
   "execution_count": 3,
   "id": "f111789f-2ad1-409c-9ec2-91e8248be5d2",
   "metadata": {},
   "outputs": [],
   "source": [
    "f=open(\"Text_01.txt\",'r')"
   ]
  },
  {
   "cell_type": "code",
   "execution_count": 9,
   "id": "6ef4196b-ff1d-41ce-bec6-f4b07c9db912",
   "metadata": {},
   "outputs": [
    {
     "data": {
      "text/plain": [
       "<_io.TextIOWrapper name='Text_01.txt' mode='r' encoding='UTF-8'>"
      ]
     },
     "execution_count": 9,
     "metadata": {},
     "output_type": "execute_result"
    }
   ],
   "source": [
    "f"
   ]
  },
  {
   "cell_type": "code",
   "execution_count": 2,
   "id": "400b70b8-6879-4f4f-8b5f-0e1248a6f78e",
   "metadata": {},
   "outputs": [],
   "source": [
    "f=open(\"Text_01.txt\",'r')"
   ]
  },
  {
   "cell_type": "code",
   "execution_count": 3,
   "id": "a581a15d-a23b-40f8-a4ba-aeab56586a30",
   "metadata": {},
   "outputs": [
    {
     "data": {
      "text/plain": [
       "'I Want To Become Data ScientisThis is Prithwish.This is pouravi.'"
      ]
     },
     "execution_count": 3,
     "metadata": {},
     "output_type": "execute_result"
    }
   ],
   "source": [
    "f.read()"
   ]
  },
  {
   "cell_type": "code",
   "execution_count": 4,
   "id": "d322a42d-e9bc-4271-8126-cac3f684bf69",
   "metadata": {},
   "outputs": [
    {
     "data": {
      "text/plain": [
       "''"
      ]
     },
     "execution_count": 4,
     "metadata": {},
     "output_type": "execute_result"
    }
   ],
   "source": [
    "f.readline()"
   ]
  },
  {
   "cell_type": "code",
   "execution_count": 5,
   "id": "8aef3a9b-9718-43bc-8a59-3d0a3ebf77c6",
   "metadata": {},
   "outputs": [
    {
     "data": {
      "text/plain": [
       "0"
      ]
     },
     "execution_count": 5,
     "metadata": {},
     "output_type": "execute_result"
    }
   ],
   "source": [
    "f.seek(0)"
   ]
  },
  {
   "cell_type": "code",
   "execution_count": 6,
   "id": "5a21d10b-2793-4b0a-9e93-9a4dfc287659",
   "metadata": {},
   "outputs": [
    {
     "data": {
      "text/plain": [
       "'I Want To Become Data ScientisThis is Prithwish.This is pouravi.'"
      ]
     },
     "execution_count": 6,
     "metadata": {},
     "output_type": "execute_result"
    }
   ],
   "source": [
    "f.readline()"
   ]
  },
  {
   "cell_type": "code",
   "execution_count": 8,
   "id": "c98191dc-13a5-4912-bb69-b675877b6564",
   "metadata": {},
   "outputs": [
    {
     "name": "stdout",
     "output_type": "stream",
     "text": [
      "[]\n"
     ]
    }
   ],
   "source": [
    "p=f.readlines()\n",
    "print(p)"
   ]
  },
  {
   "cell_type": "code",
   "execution_count": 9,
   "id": "cd6c56f4-9cdb-4ae8-9ada-9405648bd937",
   "metadata": {},
   "outputs": [
    {
     "name": "stdout",
     "output_type": "stream",
     "text": [
      "[]\n"
     ]
    }
   ],
   "source": [
    "print(p)"
   ]
  },
  {
   "cell_type": "code",
   "execution_count": 10,
   "id": "22a53cad-0419-49ae-ad4f-fe199e0e0fb1",
   "metadata": {},
   "outputs": [],
   "source": [
    "f.close()"
   ]
  },
  {
   "cell_type": "code",
   "execution_count": 11,
   "id": "52f4bddd-7887-4c30-a27e-364813604aea",
   "metadata": {},
   "outputs": [],
   "source": [
    "f=open(\"Text_01.txt\",'r')"
   ]
  },
  {
   "cell_type": "code",
   "execution_count": 12,
   "id": "152d0000-e387-4857-bde1-de06e32beaf3",
   "metadata": {},
   "outputs": [],
   "source": [
    "data = f.readlines()"
   ]
  },
  {
   "cell_type": "code",
   "execution_count": 13,
   "id": "fbcce3fb-b147-48f9-8a1e-ef991d6cde42",
   "metadata": {},
   "outputs": [
    {
     "name": "stdout",
     "output_type": "stream",
     "text": [
      "['I Want To Become Data ScientisThis is Prithwish.This is pouravi.']\n"
     ]
    }
   ],
   "source": [
    "print(data)"
   ]
  },
  {
   "cell_type": "code",
   "execution_count": null,
   "id": "07ba294e-373e-4e91-a781-1897f40062f0",
   "metadata": {},
   "outputs": [],
   "source": [
    "Explain why with statement is used with open(). What is the advantage of using with statement and \n",
    "open() together?"
   ]
  },
  {
   "cell_type": "code",
   "execution_count": null,
   "id": "a0468875-e291-4699-9521-5689df73922b",
   "metadata": {},
   "outputs": [],
   "source": [
    "The with statement works with the open() function to open a file. Unlike open() where you have to close the file with the close() method, the with statement closes the file for you without you telling it to. This is because the with statement calls 2 built-in methods behind the scene – __enter()__ and __exit()__ ."
   ]
  },
  {
   "cell_type": "code",
   "execution_count": null,
   "id": "6c454dcb-51fa-430b-a0a5-eb31f9106f3e",
   "metadata": {},
   "outputs": [],
   "source": [
    "Explain the write() and writelines() functions. Give a suitable example."
   ]
  },
  {
   "cell_type": "code",
   "execution_count": null,
   "id": "77895ebf-a070-491e-b754-d9bad43dd80e",
   "metadata": {},
   "outputs": [],
   "source": [
    "The write() function will write the content in the file without adding any extra characters.\n",
    "writelines() function\n",
    "This function writes the content of a list to a file.\n",
    "The only difference between the write() and writelines() is that write() is used to write a string to an already opened file while writelines() method is used to write a list of strings in an opened file."
   ]
  },
  {
   "cell_type": "code",
   "execution_count": 19,
   "id": "85246d11-950a-4137-a52f-87fce3b3a1fc",
   "metadata": {},
   "outputs": [
    {
     "name": "stdin",
     "output_type": "stream",
     "text": [
      "enter name guddu\n",
      "enter name guddi\n",
      "enter name maa\n"
     ]
    },
    {
     "name": "stdout",
     "output_type": "stream",
     "text": [
      "write in this file is complete\n"
     ]
    }
   ],
   "source": [
    "with open(\"text-0.txt\",'w') as new_file:\n",
    "    for i in range (3):\n",
    "        name=input(\"enter name\")\n",
    "        new_file.write(name)\n",
    "        new_file.write('\\n')\n",
    "print(\"write in this file is complete\")\n",
    "    "
   ]
  },
  {
   "cell_type": "code",
   "execution_count": null,
   "id": "a8bb3040-d76f-4d55-a027-cc137c1d1b76",
   "metadata": {},
   "outputs": [],
   "source": [
    "o/p:\n",
    "guddu\n",
    "guddi\n",
    "maa"
   ]
  },
  {
   "cell_type": "code",
   "execution_count": 20,
   "id": "6f199889-9d74-43a5-b8ed-c883ab99fbc1",
   "metadata": {},
   "outputs": [
    {
     "name": "stdin",
     "output_type": "stream",
     "text": [
      "enter name prithwish\n",
      "enter name pouravi\n",
      "enter name anjana\n"
     ]
    },
    {
     "name": "stdout",
     "output_type": "stream",
     "text": [
      "write in this file is complete\n"
     ]
    }
   ],
   "source": [
    "with open(\"text-0.txt\",'w') as new_file:\n",
    "    l1=[]\n",
    "    for i in range (3):\n",
    "        name=input(\"enter name\")\n",
    "        l1.append(name+'\\n')\n",
    "    new_file.writelines(l1)\n",
    "        #new_file.write(name)\n",
    "       # new_file.write('\\n')\n",
    "print(\"write in this file is complete\")\n",
    "    "
   ]
  },
  {
   "cell_type": "code",
   "execution_count": null,
   "id": "3c0809f2-025d-4868-a5eb-3b762872292a",
   "metadata": {},
   "outputs": [],
   "source": [
    "o/p:\n",
    "prithwish\n",
    "pouravi\n",
    "anjana\n"
   ]
  },
  {
   "cell_type": "code",
   "execution_count": null,
   "id": "a7c6c137-e2cf-445b-8af8-b7b840ed5d67",
   "metadata": {},
   "outputs": [],
   "source": []
  }
 ],
 "metadata": {
  "kernelspec": {
   "display_name": "Python 3 (ipykernel)",
   "language": "python",
   "name": "python3"
  },
  "language_info": {
   "codemirror_mode": {
    "name": "ipython",
    "version": 3
   },
   "file_extension": ".py",
   "mimetype": "text/x-python",
   "name": "python",
   "nbconvert_exporter": "python",
   "pygments_lexer": "ipython3",
   "version": "3.10.6"
  }
 },
 "nbformat": 4,
 "nbformat_minor": 5
}
