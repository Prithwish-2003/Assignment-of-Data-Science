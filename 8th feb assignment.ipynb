{
 "cells": [
  {
   "cell_type": "code",
   "execution_count": null,
   "id": "b64712bc-9ff5-418c-a6ca-aedf6f53322d",
   "metadata": {},
   "outputs": [],
   "source": [
    "What is Abstraction in OOps? Explain with an example"
   ]
  },
  {
   "cell_type": "code",
   "execution_count": null,
   "id": "c4e5caf0-775e-43b0-b04e-92b92236e2b1",
   "metadata": {},
   "outputs": [],
   "source": [
    "Abstraction is the process of hiding the internal details of an application from the outer world. Abstraction is used to describe things in simple terms. It's used to create a boundary between the application and the client programs."
   ]
  },
  {
   "cell_type": "code",
   "execution_count": null,
   "id": "048055f8-af94-49aa-8109-7eb977ddbc49",
   "metadata": {},
   "outputs": [],
   "source": [
    "it is used mainly ATM machine"
   ]
  },
  {
   "cell_type": "code",
   "execution_count": null,
   "id": "387f1d05-a06c-41bf-9300-aee1957a60c8",
   "metadata": {},
   "outputs": [],
   "source": []
  },
  {
   "cell_type": "code",
   "execution_count": null,
   "id": "f8d457ce-06bf-4fd1-bb8d-1294c8305671",
   "metadata": {},
   "outputs": [],
   "source": [
    "What is abc module in python? Why is it used"
   ]
  },
  {
   "cell_type": "code",
   "execution_count": null,
   "id": "4c1f5502-5875-4da1-95b8-0debfacda028",
   "metadata": {},
   "outputs": [],
   "source": [
    "The 'abc' module in Python library provides the infrastructure for defining custom abstract base classes. 'abc' works by marking methods of the base class as abstract. This is done by @absttractmethod decorator."
   ]
  },
  {
   "cell_type": "code",
   "execution_count": null,
   "id": "c7694858-d39f-4022-a3a8-7cd2db55ace0",
   "metadata": {},
   "outputs": [],
   "source": [
    " How can we achieve data abstraction?"
   ]
  },
  {
   "cell_type": "code",
   "execution_count": null,
   "id": "fbed9c9a-bf3f-4e64-a6d9-a22617a4c148",
   "metadata": {},
   "outputs": [],
   "source": [
    "In Python, abstraction can be achieved by having/using abstract classes and methods in our programs. Understanding Abstract Methods and Classes: An abstract method is a method that is declared, but does not contain implementation."
   ]
  },
  {
   "cell_type": "code",
   "execution_count": null,
   "id": "269978b6-28a2-4ec0-a6e4-01adc4eb71a5",
   "metadata": {},
   "outputs": [],
   "source": [
    "Q5. Can we create an instance of an abstract class? Explain your answer"
   ]
  },
  {
   "cell_type": "code",
   "execution_count": null,
   "id": "53a6ee49-5e98-43e4-ab0d-6b088cefdcbb",
   "metadata": {},
   "outputs": [],
   "source": [
    "Abstract classes cannot be instantiated, but they can be subclassed. When an abstract class is subclassed, the subclass usually provides implementations for all of the abstract methods in its parent class. However, if it does not, then the subclass must also be declared abstract"
   ]
  }
 ],
 "metadata": {
  "kernelspec": {
   "display_name": "Python 3 (ipykernel)",
   "language": "python",
   "name": "python3"
  },
  "language_info": {
   "codemirror_mode": {
    "name": "ipython",
    "version": 3
   },
   "file_extension": ".py",
   "mimetype": "text/x-python",
   "name": "python",
   "nbconvert_exporter": "python",
   "pygments_lexer": "ipython3",
   "version": "3.10.6"
  }
 },
 "nbformat": 4,
 "nbformat_minor": 5
}
