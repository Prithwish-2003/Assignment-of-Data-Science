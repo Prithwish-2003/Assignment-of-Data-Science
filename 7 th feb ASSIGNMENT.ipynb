{
 "cells": [
  {
   "cell_type": "code",
   "execution_count": null,
   "id": "475334e2-2977-4f70-b296-5e8e0de538d9",
   "metadata": {},
   "outputs": [],
   "source": [
    "Q1. You are writing code for a company. The requirement of the company is that you\n",
    "create a python function that will check whether the password entered by the user is correct or not. \n",
    "The function should take the password as input and return the string “Valid Password” if the \n",
    "entered password follows the \n",
    "below-given password guidelines else it should return “Invalid Password”.\n",
    "\n",
    "\n",
    "Note: 1. The Password should contain at least two uppercase letters and at least two lowercase letters.\n",
    "\n",
    "2. The Password should contain at least a number and three special characters.\n",
    "\n",
    "3. The length of the password should be 10 characters long."
   ]
  },
  {
   "cell_type": "code",
   "execution_count": 6,
   "id": "871854db-d5be-4f65-9832-cf6b69a51640",
   "metadata": {},
   "outputs": [],
   "source": [
    "#password = input(\"Enter password\")\n",
    "def validity_check(s):\n",
    "    co=0\n",
    "    lo=0\n",
    "    ca=0\n",
    "    nu=0\n",
    "    sp=0\n",
    "    i=0\n",
    "    if (len(s)>=10):\n",
    "        co+=1\n",
    "    while(i<len(s)):\n",
    "        #if(len(s)>=10):\n",
    "          #  co+=1\n",
    "        if (s[i]>='a' and s[i]<='z'):\n",
    "            lo+=1\n",
    "        elif (s[i]>='A' and s[i]<='Z'):\n",
    "            ca+=1\n",
    "        elif (s[i]>='0' and s[i]<='9'):\n",
    "            nu+=1\n",
    "        elif ((s[i]>=':' and s[i]<='@')\n",
    "        or(s[i]>='!' and s[i]<='/')):\n",
    "            sp+=1\n",
    "        i+=1\n",
    "    if(co==1and lo>=2 and ca>=2 and nu>=1 and sp>=3):\n",
    "        print(\"Vaild password\")\n",
    "    else :\n",
    "        print(\"invalid password\")"
   ]
  },
  {
   "cell_type": "code",
   "execution_count": 7,
   "id": "ba8b7a7d-ef96-411f-9773-e6a002b69f89",
   "metadata": {},
   "outputs": [
    {
     "name": "stdout",
     "output_type": "stream",
     "text": [
      "Vaild password\n"
     ]
    }
   ],
   "source": [
    "validity_check(\"PRithwish@(2003)\")"
   ]
  },
  {
   "cell_type": "code",
   "execution_count": null,
   "id": "ebeac1c6-5606-4589-843a-a4246aab32ba",
   "metadata": {},
   "outputs": [],
   "source": [
    "B Sort a list of integers into positive and negative integers lists.\n",
    "\n",
    " [1,2,3,4,5,6,-1,-2,-3,-4,-5,0]"
   ]
  },
  {
   "cell_type": "code",
   "execution_count": 8,
   "id": "222a3f85-b2a6-4cd9-957e-1cd1fc501621",
   "metadata": {},
   "outputs": [
    {
     "data": {
      "text/plain": [
       "[-5, -4, -3, -2, -1, 0, 1, 2, 3, 4, 5, 6]"
      ]
     },
     "execution_count": 8,
     "metadata": {},
     "output_type": "execute_result"
    }
   ],
   "source": [
    "l2= [1,2,3,4,5,6,-1,-2,-3,-4,-5,0]\n",
    "list(sorted(l2,key=lambda x :x))"
   ]
  },
  {
   "cell_type": "code",
   "execution_count": null,
   "id": "a3a9f868-d585-415d-b404-4e351506b466",
   "metadata": {},
   "outputs": [],
   "source": [
    "Filter odd numbers from the given list.\n",
    "\n",
    " [1,2,3,4,5,6,7,8,9,10]"
   ]
  },
  {
   "cell_type": "code",
   "execution_count": 21,
   "id": "08bf3233-9ac2-4eef-a32d-8dd5704f8ea6",
   "metadata": {},
   "outputs": [
    {
     "data": {
      "text/plain": [
       "[1, 3, 5, 7, 9]"
      ]
     },
     "execution_count": 21,
     "metadata": {},
     "output_type": "execute_result"
    }
   ],
   "source": [
    "l1= [1,2,3,4,5,6,7,8,9,10]\n",
    "list(filter(lambda x:x%2!=0,l1))"
   ]
  },
  {
   "cell_type": "code",
   "execution_count": null,
   "id": "64582210-cdc9-48a7-a06e-a92971e9cbfb",
   "metadata": {},
   "outputs": [],
   "source": [
    " Find the squares of numbers from 1 to 10\n"
   ]
  },
  {
   "cell_type": "code",
   "execution_count": 22,
   "id": "fb2ed024-77ea-4b1a-adc9-5cf886ce6de7",
   "metadata": {},
   "outputs": [],
   "source": [
    "l=[1,2,3,4,5,6,7,8,9,10]"
   ]
  },
  {
   "cell_type": "code",
   "execution_count": 23,
   "id": "8f31b3f8-538d-4598-a8ec-7bb34dde4bc1",
   "metadata": {},
   "outputs": [
    {
     "data": {
      "text/plain": [
       "[1, 4, 9, 16, 25, 36, 49, 64, 81, 100]"
      ]
     },
     "execution_count": 23,
     "metadata": {},
     "output_type": "execute_result"
    }
   ],
   "source": [
    "list(map(lambda x:x**2,l))"
   ]
  },
  {
   "cell_type": "code",
   "execution_count": null,
   "id": "b5d21cfe-b7d7-4342-a800-a400328f9c53",
   "metadata": {},
   "outputs": [],
   "source": [
    "Find the cube root of numbers from 1 to 10"
   ]
  },
  {
   "cell_type": "code",
   "execution_count": 25,
   "id": "7b3641c9-ae31-4ea0-8065-1d7d3e7a402b",
   "metadata": {},
   "outputs": [
    {
     "data": {
      "text/plain": [
       "[1, 2, 3, 4, 5, 6, 7, 8, 9, 10]"
      ]
     },
     "execution_count": 25,
     "metadata": {},
     "output_type": "execute_result"
    }
   ],
   "source": [
    "l"
   ]
  },
  {
   "cell_type": "code",
   "execution_count": 26,
   "id": "1e0af6af-afba-4430-a86e-32044d04e0d3",
   "metadata": {},
   "outputs": [
    {
     "data": {
      "text/plain": [
       "[0.3333333333333333,\n",
       " 0.6666666666666666,\n",
       " 1.0,\n",
       " 1.3333333333333333,\n",
       " 1.6666666666666667,\n",
       " 2.0,\n",
       " 2.3333333333333335,\n",
       " 2.6666666666666665,\n",
       " 3.0,\n",
       " 3.3333333333333335]"
      ]
     },
     "execution_count": 26,
     "metadata": {},
     "output_type": "execute_result"
    }
   ],
   "source": [
    "list(map(lambda x:x**1/3,l))"
   ]
  },
  {
   "cell_type": "code",
   "execution_count": null,
   "id": "62ebb86a-85fa-4111-a284-4795d5810d3a",
   "metadata": {},
   "outputs": [],
   "source": [
    "Sort a list of tuples having fruit names and their quantity"
   ]
  },
  {
   "cell_type": "code",
   "execution_count": 27,
   "id": "d9fbf257-0fbd-4ec2-baa5-f5f4b67cb745",
   "metadata": {},
   "outputs": [],
   "source": [
    "l3=[(\"mango\",99),(\"orange\",80), (\"grapes\", 1000)]"
   ]
  },
  {
   "cell_type": "code",
   "execution_count": 31,
   "id": "63692af4-7947-4974-bd3d-6c1ecd51f95e",
   "metadata": {},
   "outputs": [
    {
     "data": {
      "text/plain": [
       "[('orange', 80), ('mango', 99), ('grapes', 1000)]"
      ]
     },
     "execution_count": 31,
     "metadata": {},
     "output_type": "execute_result"
    }
   ],
   "source": [
    "list(sorted(l3,key=lambda x:x[1]))"
   ]
  },
  {
   "cell_type": "code",
   "execution_count": null,
   "id": "7cba819b-905b-4ed8-8bc7-5d7c3ec32eb2",
   "metadata": {},
   "outputs": [],
   "source": [
    "Check if the string is numeric"
   ]
  },
  {
   "cell_type": "code",
   "execution_count": null,
   "id": "45470968-1559-4f1d-bf60-41abd063d254",
   "metadata": {},
   "outputs": [],
   "source": []
  }
 ],
 "metadata": {
  "kernelspec": {
   "display_name": "Python 3 (ipykernel)",
   "language": "python",
   "name": "python3"
  },
  "language_info": {
   "codemirror_mode": {
    "name": "ipython",
    "version": 3
   },
   "file_extension": ".py",
   "mimetype": "text/x-python",
   "name": "python",
   "nbconvert_exporter": "python",
   "pygments_lexer": "ipython3",
   "version": "3.10.6"
  }
 },
 "nbformat": 4,
 "nbformat_minor": 5
}
