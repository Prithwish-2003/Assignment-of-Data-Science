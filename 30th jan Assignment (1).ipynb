{
 "cells": [
  {
   "cell_type": "code",
   "execution_count": null,
   "id": "2f974bff-cf53-4770-96f2-df5aeee99521",
   "metadata": {},
   "outputs": [],
   "source": [
    "Write a program to accept percentage from the user and display the grade according to the following criteria"
   ]
  },
  {
   "cell_type": "code",
   "execution_count": 9,
   "id": "82d5b73b-3332-4231-a305-a6a8b13a96bb",
   "metadata": {},
   "outputs": [
    {
     "name": "stdin",
     "output_type": "stream",
     "text": [
      "Enter the percentage 95\n"
     ]
    },
    {
     "name": "stdout",
     "output_type": "stream",
     "text": [
      "A\n"
     ]
    }
   ],
   "source": [
    "n = int (input(\"Enter the percentage\"))\n",
    "if (n>90):\n",
    "    \n",
    "    print(\"A\")\n",
    "elif (n>80 and n<=90):\n",
    "    print(\"B\")\n",
    "elif (n>=60 and n<=80):\n",
    "    print(\"C\")\n",
    "else :\n",
    "    print (\"D\")"
   ]
  },
  {
   "cell_type": "code",
   "execution_count": 7,
   "id": "c171d888-9e40-4140-9c1a-d20a25b7aaf3",
   "metadata": {},
   "outputs": [],
   "source": [
    "def Display_grade(n):\n",
    "    if (n>90):\n",
    "        print(\"A\")\n",
    "    elif (n>80 and n<=90):\n",
    "        print(\"B\")\n",
    "    elif (n>=60 and n<=80):\n",
    "        print(\"C\")\n",
    "    else :\n",
    "        print (\"D\")"
   ]
  },
  {
   "cell_type": "code",
   "execution_count": 8,
   "id": "8580be09-194a-405f-bc8a-7048ff5bd5ec",
   "metadata": {},
   "outputs": [
    {
     "name": "stdout",
     "output_type": "stream",
     "text": [
      "C\n"
     ]
    }
   ],
   "source": [
    "Display_grade(70)"
   ]
  },
  {
   "cell_type": "code",
   "execution_count": null,
   "id": "f43d2478-3ea1-4e0b-8cec-e6b8dcc15bf3",
   "metadata": {},
   "outputs": [],
   "source": [
    "Write a program to accept the cost price of a bike and display the road tax to be paid according to the following criteria "
   ]
  },
  {
   "cell_type": "code",
   "execution_count": 11,
   "id": "84795321-fe2d-4b6a-af7c-2ba4b3657e9b",
   "metadata": {},
   "outputs": [
    {
     "name": "stdin",
     "output_type": "stream",
     "text": [
      "Enter the cost price 80000\n"
     ]
    },
    {
     "name": "stdout",
     "output_type": "stream",
     "text": [
      "10%\n"
     ]
    }
   ],
   "source": [
    "n = int (input (\"Enter the cost price\"))\n",
    "if (n>100000):\n",
    "    print(\"15%\")\n",
    "elif (n>50000 and n<= 100000):\n",
    "    print (\"10%\")\n",
    "elif (n<=50000):\n",
    "    print (\"5%\")"
   ]
  },
  {
   "cell_type": "code",
   "execution_count": null,
   "id": "2e410bfe-3f82-44f5-add5-e57b332f2f48",
   "metadata": {},
   "outputs": [],
   "source": [
    "Accept any city name from the user and display monument of that of that city"
   ]
  },
  {
   "cell_type": "code",
   "execution_count": 14,
   "id": "56a83712-8c98-4461-8540-e33d3af42670",
   "metadata": {},
   "outputs": [
    {
     "name": "stdin",
     "output_type": "stream",
     "text": [
      "Enter the city name : Delhi\n"
     ]
    },
    {
     "name": "stdout",
     "output_type": "stream",
     "text": [
      "Red Fort\n"
     ]
    }
   ],
   "source": [
    "n = input (\"Enter the city name :\" )\n",
    "if (n == \"Delhi\"):\n",
    "    print (\"Red Fort\")\n",
    "elif (n == \"Agra\"):\n",
    "    print (\"Taj Mahal\")\n",
    "elif (n == \"Jaipur\"):\n",
    "    print (\"Jal Mahal\")"
   ]
  },
  {
   "cell_type": "code",
   "execution_count": null,
   "id": "0f70b558-3711-4b46-8e96-680d6e679631",
   "metadata": {},
   "outputs": [],
   "source": [
    "Check how many times a given number can be devided by 3 before it is less than or equal to 10"
   ]
  },
  {
   "cell_type": "code",
   "execution_count": 2,
   "id": "441d7edf-f7e7-4cfc-9266-c952b76b063a",
   "metadata": {},
   "outputs": [
    {
     "name": "stdin",
     "output_type": "stream",
     "text": [
      "Given number 40\n"
     ]
    },
    {
     "name": "stdout",
     "output_type": "stream",
     "text": [
      "2\n"
     ]
    }
   ],
   "source": [
    "i = int (input (\"Given number\"))\n",
    "count = 0\n",
    "while i>10:\n",
    "    x = i/3\n",
    "    i = x\n",
    "    count += 1\n",
    "print (count)"
   ]
  },
  {
   "cell_type": "code",
   "execution_count": null,
   "id": "fdb2ffa3-4c77-41d9-8e5f-261b7de7958e",
   "metadata": {},
   "outputs": [],
   "source": [
    "Why and When to use a while loop in python give a detailed description with example"
   ]
  },
  {
   "cell_type": "code",
   "execution_count": null,
   "id": "9d8a543a-32f5-4e79-a304-8d54c8ff09a8",
   "metadata": {},
   "outputs": [],
   "source": [
    "Ans:\n",
    "In Python programming, we use while loops to do a task a certain number of times repeatedly. The while loop checks a condition and executes the task as long as that condition is satisfied. The loop will stop its execution once the condition becomes not satisfied.  Example :"
   ]
  },
  {
   "cell_type": "code",
   "execution_count": 3,
   "id": "09f80e42-a2a8-4390-a542-d84acb32699f",
   "metadata": {},
   "outputs": [
    {
     "name": "stdout",
     "output_type": "stream",
     "text": [
      "10\n",
      "9\n",
      "8\n",
      "7\n",
      "6\n",
      "5\n",
      "4\n",
      "3\n",
      "2\n",
      "1\n"
     ]
    }
   ],
   "source": [
    "n = 10 \n",
    "while n>0:\n",
    "    print (n)\n",
    "    n = n-1"
   ]
  },
  {
   "cell_type": "code",
   "execution_count": null,
   "id": "47f58f2d-1d90-4a81-b020-53d7925f5268",
   "metadata": {},
   "outputs": [],
   "source": [
    "Used a nested while loop to print 3 different pattern"
   ]
  },
  {
   "cell_type": "code",
   "execution_count": 7,
   "id": "0ff05044-552e-497b-a4cc-e787ba3a9b07",
   "metadata": {},
   "outputs": [
    {
     "name": "stdout",
     "output_type": "stream",
     "text": [
      " \n",
      "1 \n",
      "22 \n",
      "333 \n",
      "4444 \n"
     ]
    }
   ],
   "source": [
    "i = 0\n",
    "#j = 0\n",
    "n = 5\n",
    "while i<n:\n",
    "    j=0\n",
    "    while j<i:\n",
    "        print (i , end =\"\")\n",
    "        j+=1\n",
    "    print (\" \")\n",
    "    i+=1"
   ]
  },
  {
   "cell_type": "code",
   "execution_count": 8,
   "id": "252aec8d-4b76-4ace-b4e9-eed5506157bf",
   "metadata": {},
   "outputs": [
    {
     "name": "stdout",
     "output_type": "stream",
     "text": [
      " \n",
      "* \n",
      "** \n",
      "*** \n",
      "**** \n"
     ]
    }
   ],
   "source": [
    "i = 0\n",
    "#j = 0\n",
    "n = 5\n",
    "while i<n:\n",
    "    j=0\n",
    "    while j<i:\n",
    "        print (\"*\" , end =\"\")\n",
    "        j+=1\n",
    "    print (\" \")\n",
    "    i+=1"
   ]
  },
  {
   "cell_type": "code",
   "execution_count": 1,
   "id": "64638599-2068-47fc-b370-6a190a13a9fe",
   "metadata": {},
   "outputs": [
    {
     "name": "stdout",
     "output_type": "stream",
     "text": [
      "***** \n",
      "***** \n",
      "***** \n",
      "***** \n",
      "***** \n"
     ]
    }
   ],
   "source": [
    "i = 0\n",
    "#j = 0\n",
    "n = 5\n",
    "while i<n:\n",
    "    j=0\n",
    "    while j<n:\n",
    "        print (\"*\" , end =\"\")\n",
    "        j+=1\n",
    "    print (\" \")\n",
    "    i+=1"
   ]
  },
  {
   "cell_type": "code",
   "execution_count": null,
   "id": "565ded97-046d-4632-894b-f0120a76a779",
   "metadata": {},
   "outputs": [],
   "source": [
    "Reverse a while loop print to display number from 10 to 1"
   ]
  },
  {
   "cell_type": "code",
   "execution_count": 2,
   "id": "f028b852-9942-4f94-a944-a167edd6f6cd",
   "metadata": {},
   "outputs": [
    {
     "name": "stdout",
     "output_type": "stream",
     "text": [
      "10\n",
      "9\n",
      "8\n",
      "7\n",
      "6\n",
      "5\n",
      "4\n",
      "3\n",
      "2\n",
      "1\n"
     ]
    }
   ],
   "source": [
    "n = 10 \n",
    "while n>0:\n",
    "    print (n)\n",
    "    n = n-1"
   ]
  },
  {
   "cell_type": "code",
   "execution_count": null,
   "id": "f71feb87-85ad-4be1-8848-396631af6ab4",
   "metadata": {},
   "outputs": [],
   "source": []
  }
 ],
 "metadata": {
  "kernelspec": {
   "display_name": "Python 3 (ipykernel)",
   "language": "python",
   "name": "python3"
  },
  "language_info": {
   "codemirror_mode": {
    "name": "ipython",
    "version": 3
   },
   "file_extension": ".py",
   "mimetype": "text/x-python",
   "name": "python",
   "nbconvert_exporter": "python",
   "pygments_lexer": "ipython3",
   "version": "3.10.6"
  }
 },
 "nbformat": 4,
 "nbformat_minor": 5
}
