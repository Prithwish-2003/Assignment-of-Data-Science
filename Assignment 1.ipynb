{
 "cells": [
  {
   "cell_type": "code",
   "execution_count": null,
   "id": "86aa9d82-4cdc-428c-b8c4-d5e967262b88",
   "metadata": {},
   "outputs": [],
   "source": [
    "Who devoloped Python Programming Language?\n",
    "Ans: Guddio Van Rossum"
   ]
  },
  {
   "cell_type": "code",
   "execution_count": null,
   "id": "1fdd50d6-63aa-4c27-9ba5-a8ec42a0b914",
   "metadata": {},
   "outputs": [],
   "source": [
    "which type of programming does python support ?\n",
    "Ans: Python is a multi-paradigm progamming language . Object-oriented programming and Structured programming are fully supported."
   ]
  },
  {
   "cell_type": "code",
   "execution_count": null,
   "id": "7d164dcc-5d8e-41be-a864-02c4399e7062",
   "metadata": {},
   "outputs": [],
   "source": [
    "is python case sensitive when dealling with idenetifiers?\n",
    "Ans: yes , it trats upper case and lower case differently ."
   ]
  },
  {
   "cell_type": "code",
   "execution_count": null,
   "id": "edc72044-7eab-4d7a-892a-881de9c0d5cc",
   "metadata": {},
   "outputs": [],
   "source": [
    "What is the correct extension of the python file ?\n",
    "Ans : .py , .pyi, .pyc , .pyd , .pyo , .pyw , .pyz are the extension of python file"
   ]
  },
  {
   "cell_type": "code",
   "execution_count": null,
   "id": "7e8c7ec5-076a-4924-afce-4962507f23ce",
   "metadata": {},
   "outputs": [],
   "source": [
    "is Python code compiled or interpreted?\n",
    "Ans: Python is an interpreted Language."
   ]
  },
  {
   "cell_type": "code",
   "execution_count": null,
   "id": "ddce95ce-fb00-44fe-a8ae-e74a445bed49",
   "metadata": {},
   "outputs": [],
   "source": [
    "Name a few blocks  of code used to define in python language ?\n",
    "Ans: A python progam is constructed from code blocks . A python is a piece of Python program text  that is executed as a unit . \n",
    "The following are bocks : a module, a function body and a class definition"
   ]
  },
  {
   "cell_type": "code",
   "execution_count": null,
   "id": "88879c34-6404-4a3d-af9c-b9ef0f88f551",
   "metadata": {},
   "outputs": [],
   "source": [
    "State a character used to give a single line comments in python?\n",
    "Ans : (#)"
   ]
  },
  {
   "cell_type": "code",
   "execution_count": null,
   "id": "f8580233-ae98-4ebb-83ec-f37942d6beb1",
   "metadata": {},
   "outputs": [],
   "source": [
    "Mention  functions which can help us to find the version of python that we are currently working on?\n",
    "Ans : The function sys.version"
   ]
  },
  {
   "cell_type": "code",
   "execution_count": null,
   "id": "50f8818e-db96-4f2c-9aa7-a1d9b8ae84d1",
   "metadata": {},
   "outputs": [],
   "source": [
    "Python supports the creation of anonymous functions at runtime , using a construct called : \"lambda\""
   ]
  },
  {
   "cell_type": "code",
   "execution_count": null,
   "id": "cc461789-560d-43ad-86c7-16406dd5b6a3",
   "metadata": {},
   "outputs": [],
   "source": [
    "What does pip stand for python ?\n",
    "Ans:Pip standa for \" preferred installer program \""
   ]
  },
  {
   "cell_type": "code",
   "execution_count": null,
   "id": "0a4e320e-e77d-48b5-9727-6114c70d0cc7",
   "metadata": {},
   "outputs": [],
   "source": [
    "Mentain a few built in _function in python?\n",
    "->print()function.\n",
    "->type()function.\n",
    "->input()function.\n",
    "->abs()function.\n",
    "->pow()function.\n",
    "->dir()function.\n",
    "->sorted()function.\n",
    "->max()function."
   ]
  },
  {
   "cell_type": "code",
   "execution_count": null,
   "id": "ae02e7b4-1619-423f-a01d-43e09c230ee1",
   "metadata": {},
   "outputs": [],
   "source": [
    "what is the maximum possible length of an identifier in python?\n",
    "->79 characters"
   ]
  },
  {
   "cell_type": "code",
   "execution_count": null,
   "id": "334146f0-a4ee-4674-bcd2-be2183d2e160",
   "metadata": {},
   "outputs": [],
   "source": [
    "what are the benefits of using python?\n",
    "->data science.\n",
    "->scintific and mathematical computing.\n",
    "->web development.\n",
    "->finance and trading\n",
    "->system automation and administration.\n",
    "->computer graphics.\n",
    "->Basic game development."
   ]
  },
  {
   "cell_type": "code",
   "execution_count": null,
   "id": "10a7f12c-2f83-4f35-a6d1-fee6f4e69b56",
   "metadata": {},
   "outputs": [],
   "source": []
  }
 ],
 "metadata": {
  "kernelspec": {
   "display_name": "Python 3 (ipykernel)",
   "language": "python",
   "name": "python3"
  },
  "language_info": {
   "codemirror_mode": {
    "name": "ipython",
    "version": 3
   },
   "file_extension": ".py",
   "mimetype": "text/x-python",
   "name": "python",
   "nbconvert_exporter": "python",
   "pygments_lexer": "ipython3",
   "version": "3.10.6"
  }
 },
 "nbformat": 4,
 "nbformat_minor": 5
}
