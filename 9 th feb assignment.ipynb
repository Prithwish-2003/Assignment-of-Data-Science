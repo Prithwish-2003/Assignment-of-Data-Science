{
 "cells": [
  {
   "cell_type": "code",
   "execution_count": null,
   "id": "a7f7a5c7-1526-4a2f-b483-170f9c737051",
   "metadata": {},
   "outputs": [],
   "source": [
    "Create a vehicle class with an init method having instance variables as name_of_vehicle, max_speed \n",
    "and average_of_vehicle."
   ]
  },
  {
   "cell_type": "code",
   "execution_count": 1,
   "id": "23e3e0e3-87c4-4c53-ab03-d0657e588e00",
   "metadata": {},
   "outputs": [],
   "source": [
    "class vehicle:\n",
    "    def __init__(self,name_of_vehicle,max_speed,avarage_of_vehicle):\n",
    "        self.name_of_vehicle=name_of_vehicle\n",
    "        self.max_speed=max_speed\n",
    "        self.avarage_of_vehicle=avarage_of_vehicle"
   ]
  },
  {
   "cell_type": "code",
   "execution_count": 2,
   "id": "40a38f77-81c4-416d-aa19-f7b64e1fece8",
   "metadata": {},
   "outputs": [],
   "source": [
    "pw=vehicle(\"pouravi\",23,10)"
   ]
  },
  {
   "cell_type": "code",
   "execution_count": 3,
   "id": "376a3deb-16ed-4bf8-a153-cd96d9b13da0",
   "metadata": {},
   "outputs": [
    {
     "data": {
      "text/plain": [
       "23"
      ]
     },
     "execution_count": 3,
     "metadata": {},
     "output_type": "execute_result"
    }
   ],
   "source": [
    "pw.max_speed"
   ]
  },
  {
   "cell_type": "code",
   "execution_count": null,
   "id": "86e09f78-ca0a-4760-a09e-0949e35b557c",
   "metadata": {},
   "outputs": [],
   "source": [
    "Create a child class car from the vehicle class created in Que 1, which will inherit the vehicle class. \n",
    "Create a method named seating_capacity which takes capacity as an argument and returns the name of \n",
    "the vehicle and its seating capacity."
   ]
  },
  {
   "cell_type": "code",
   "execution_count": 15,
   "id": "37217440-b1be-417e-9df2-d669257eb2d1",
   "metadata": {},
   "outputs": [],
   "source": [
    "class vehicle:\n",
    "    def __init__(self,name_of_vehicle,max_speed,avarage_of_vehicle):\n",
    "        self.name_of_vehicle=name_of_vehicle\n",
    "        self.max_speed=max_speed\n",
    "        self.avarage_of_vehicle=avarage_of_vehicle\n",
    "        \n",
    "class car(vehicle):\n",
    "    def seating_capacity(self,a):\n",
    "        self.seating_capacity=a\n",
    "        return self.seating_capacity,self.name_of_vehicle\n",
    "    "
   ]
  },
  {
   "cell_type": "code",
   "execution_count": 16,
   "id": "d43d1727-0328-421a-a8f7-1ce4a6f5f396",
   "metadata": {},
   "outputs": [],
   "source": [
    "pw1=car(\"Honda\",80,45)"
   ]
  },
  {
   "cell_type": "code",
   "execution_count": 17,
   "id": "00c030e9-8565-44c0-84ce-1dee93f543d9",
   "metadata": {},
   "outputs": [
    {
     "data": {
      "text/plain": [
       "(5, 'Honda')"
      ]
     },
     "execution_count": 17,
     "metadata": {},
     "output_type": "execute_result"
    }
   ],
   "source": [
    "pw1.seating_capacity(5)"
   ]
  },
  {
   "cell_type": "code",
   "execution_count": null,
   "id": "2200f307-faf0-442f-aeed-b00411bcf31e",
   "metadata": {},
   "outputs": [],
   "source": [
    "What is multiple inheritance? Write a python code to demonstrate multiple inheritance."
   ]
  },
  {
   "cell_type": "code",
   "execution_count": null,
   "id": "97ed5b8d-2a7e-4956-8b91-7197a6b21095",
   "metadata": {},
   "outputs": [],
   "source": [
    "When a class is derived from more than one base class it is called multiple Inheritance. The derived class inherits all the features of the base case."
   ]
  },
  {
   "cell_type": "code",
   "execution_count": 18,
   "id": "96b689a9-3988-4a65-99d6-6daf435b3059",
   "metadata": {},
   "outputs": [],
   "source": [
    "class class1:\n",
    "    def test_class1(self):\n",
    "        return \"this is a class 1\""
   ]
  },
  {
   "cell_type": "code",
   "execution_count": 19,
   "id": "ee5f39d3-f8eb-4696-9ff8-68f640b7350e",
   "metadata": {},
   "outputs": [],
   "source": [
    "class class2:\n",
    "    def test_class2(self):\n",
    "        return \"this is a class 2\""
   ]
  },
  {
   "cell_type": "code",
   "execution_count": 20,
   "id": "a4ff2d9d-c628-4a5d-a84f-3ca148606d19",
   "metadata": {},
   "outputs": [],
   "source": [
    "class class3(class1,class2):\n",
    "    pass"
   ]
  },
  {
   "cell_type": "code",
   "execution_count": 21,
   "id": "fcaefe49-c56e-4f86-bb13-044df14a8573",
   "metadata": {},
   "outputs": [],
   "source": [
    "obj_class3=class3()"
   ]
  },
  {
   "cell_type": "code",
   "execution_count": 23,
   "id": "56edef3e-d662-4016-8314-1659b5de3c31",
   "metadata": {},
   "outputs": [
    {
     "data": {
      "text/plain": [
       "'this is a class 1'"
      ]
     },
     "execution_count": 23,
     "metadata": {},
     "output_type": "execute_result"
    }
   ],
   "source": [
    "obj_class3.test_class1()"
   ]
  },
  {
   "cell_type": "code",
   "execution_count": 24,
   "id": "9793f82d-b7c7-4520-bd1d-0208c506a4cd",
   "metadata": {},
   "outputs": [
    {
     "data": {
      "text/plain": [
       "'this is a class 2'"
      ]
     },
     "execution_count": 24,
     "metadata": {},
     "output_type": "execute_result"
    }
   ],
   "source": [
    "obj_class3.test_class2()"
   ]
  },
  {
   "cell_type": "code",
   "execution_count": null,
   "id": "2e193219-f6cd-4f94-b019-a5f1383cf53d",
   "metadata": {},
   "outputs": [],
   "source": [
    "Q4. What are getter and setter in python? Create a class and create a getter and a setter method in this \n",
    "class."
   ]
  },
  {
   "cell_type": "code",
   "execution_count": null,
   "id": "4de3917e-161f-492c-8d37-e000e555fa27",
   "metadata": {},
   "outputs": [],
   "source": [
    "Getter: A method that allows you to access an attribute in a given class. Setter: A method that allows you to set or mutate the value of an attribute in a class."
   ]
  },
  {
   "cell_type": "code",
   "execution_count": 26,
   "id": "fd1d2be3-1340-441c-8ce6-a1d7c47a8959",
   "metadata": {},
   "outputs": [],
   "source": [
    "class car:\n",
    "    def __init__(self,year,speed):\n",
    "        self.__year=year\n",
    "        self.__speed=speed\n",
    "    def set_speed(self,speed):\n",
    "        if speed<0:\n",
    "            self.__speed=0\n",
    "        else:\n",
    "            speed\n",
    "    def get_speed(self):\n",
    "        return self.__speed"
   ]
  },
  {
   "cell_type": "code",
   "execution_count": 27,
   "id": "dccfac9f-bcc6-4370-bf71-0ee81a6154a8",
   "metadata": {},
   "outputs": [],
   "source": [
    "c=car(2021,14)"
   ]
  },
  {
   "cell_type": "code",
   "execution_count": 28,
   "id": "30964e09-7b3a-40fc-a577-a1ee926706a4",
   "metadata": {},
   "outputs": [],
   "source": [
    "c.set_speed(-6789)"
   ]
  },
  {
   "cell_type": "code",
   "execution_count": 29,
   "id": "fe919ee3-d87c-4610-8b9b-f28633d6d1b1",
   "metadata": {},
   "outputs": [
    {
     "data": {
      "text/plain": [
       "0"
      ]
     },
     "execution_count": 29,
     "metadata": {},
     "output_type": "execute_result"
    }
   ],
   "source": [
    "c.get_speed()"
   ]
  },
  {
   "cell_type": "code",
   "execution_count": null,
   "id": "15a4c433-71b2-4324-8bcf-421b7943addf",
   "metadata": {},
   "outputs": [],
   "source": [
    "Q5.What is method overriding in python? Write a python code to demonstrate method overriding."
   ]
  },
  {
   "cell_type": "code",
   "execution_count": null,
   "id": "66b12c62-c630-423a-9420-4508dd7b3d11",
   "metadata": {},
   "outputs": [],
   "source": []
  }
 ],
 "metadata": {
  "kernelspec": {
   "display_name": "Python 3 (ipykernel)",
   "language": "python",
   "name": "python3"
  },
  "language_info": {
   "codemirror_mode": {
    "name": "ipython",
    "version": 3
   },
   "file_extension": ".py",
   "mimetype": "text/x-python",
   "name": "python",
   "nbconvert_exporter": "python",
   "pygments_lexer": "ipython3",
   "version": "3.10.6"
  }
 },
 "nbformat": 4,
 "nbformat_minor": 5
}
