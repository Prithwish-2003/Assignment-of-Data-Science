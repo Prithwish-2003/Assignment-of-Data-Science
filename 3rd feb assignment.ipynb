{
 "cells": [
  {
   "cell_type": "code",
   "execution_count": null,
   "id": "7ef14962-a52d-48c6-822a-fae38245bb29",
   "metadata": {},
   "outputs": [],
   "source": [
    " Which keyword is used to create a function? Create a function to return a list of odd numbers in the \n",
    "range of 1 to 25."
   ]
  },
  {
   "cell_type": "code",
   "execution_count": null,
   "id": "c4ad19a7-3998-44ee-b493-5b979fdb53bf",
   "metadata": {},
   "outputs": [],
   "source": [
    "The name of Keyword ,which  is used to create a function, is \"def\" "
   ]
  },
  {
   "cell_type": "code",
   "execution_count": 5,
   "id": "82f3b6a0-ea80-4761-8dc0-37b1f2212b0d",
   "metadata": {},
   "outputs": [],
   "source": [
    "def print_odd(n):\n",
    "    for i in range(1,n+1):\n",
    "        if i%2!=0:\n",
    "            print(i,end =\" \")"
   ]
  },
  {
   "cell_type": "code",
   "execution_count": 6,
   "id": "83c232a5-8fb2-410a-bcd4-f33e15633fb4",
   "metadata": {},
   "outputs": [
    {
     "name": "stdout",
     "output_type": "stream",
     "text": [
      "1 3 5 7 9 11 13 15 17 19 21 23 25 "
     ]
    }
   ],
   "source": [
    "print_odd(25)"
   ]
  },
  {
   "cell_type": "code",
   "execution_count": null,
   "id": "527ecc7d-6bed-45d3-8062-939d61840a64",
   "metadata": {},
   "outputs": [],
   "source": [
    " Why *args and **kwargs is used in some functions? Create a function each for *args and **kwargs \n",
    "to demonstrate their use"
   ]
  },
  {
   "cell_type": "code",
   "execution_count": null,
   "id": "ca1f532f-d956-4703-8f0d-b09632c08970",
   "metadata": {},
   "outputs": [],
   "source": [
    "In Python, we can pass a variable number of arguments to a function using special symbols. There are two special symbols:\n",
    "\n",
    "*args (Non Keyword Arguments)\n",
    "**kwargs (Keyword Arguments)\n",
    "\n",
    "Things to Remember:\n",
    "*args and **kwargs are special keyword which allows function to take variable length argument.\n",
    "*args passes variable number of non-keyworded arguments and on which operation of the tuple can be performed.\n",
    "**kwargs passes variable number of keyword arguments dictionary to function on which operation of a dictionary can be performed.\n",
    "*args and **kwargs make the function flexible."
   ]
  },
  {
   "cell_type": "code",
   "execution_count": null,
   "id": "eb7d6410-45b0-4b9f-8a6a-a81aaa4eb902",
   "metadata": {},
   "outputs": [],
   "source": [
    "Python *args\n",
    "As in the above example we are not sure about the number of arguments that can be passed to a function. Python has *args which allow us to pass the variable number of non keyword arguments to function.\n",
    "\n",
    "In the function, we should use an asterisk * before the parameter name to pass variable length arguments.The arguments are passed as a tuple and these passed arguments make tuple inside the function with same name as the parameter excluding asterisk * ."
   ]
  },
  {
   "cell_type": "code",
   "execution_count": 7,
   "id": "6414ca4c-c195-494a-bd8b-bec7ce468c0c",
   "metadata": {},
   "outputs": [],
   "source": [
    "def add(*nums):\n",
    "    sum = 0\n",
    "    for i in nums:\n",
    "        sum += i\n",
    "    print (\"sum is \",sum)\n",
    "    "
   ]
  },
  {
   "cell_type": "code",
   "execution_count": 8,
   "id": "de3935c2-ce3d-4a9a-ad64-9984da5c5510",
   "metadata": {},
   "outputs": [
    {
     "name": "stdout",
     "output_type": "stream",
     "text": [
      "sum is  11\n",
      "sum is  10\n"
     ]
    }
   ],
   "source": [
    "add(2,4,5)\n",
    "add(4,6)\n"
   ]
  },
  {
   "cell_type": "code",
   "execution_count": null,
   "id": "ff60348f-3b00-49f9-8008-c9b6b67c6d7e",
   "metadata": {},
   "outputs": [],
   "source": [
    "In the above program, we used *num as a parameter which allows us to pass variable length argument list to the adder() function. Inside the function, we have a loop which adds the passed argument and prints the result. We passed 3 different tuples with variable length as an argument to the function."
   ]
  },
  {
   "cell_type": "code",
   "execution_count": null,
   "id": "c46b783b-4b6a-43b1-947d-b6dab17a5559",
   "metadata": {},
   "outputs": [],
   "source": [
    "Python **kwargs\n",
    "Python passes variable length non keyword argument to function using *args but we cannot use this to pass keyword argument. For this problem Python has got a solution called **kwargs, it allows us to pass the variable length of keyword arguments to the function.\n",
    "\n",
    "In the function, we use the double asterisk ** before the parameter name to denote this type of argument. The arguments are passed as a dictionary and these arguments make a dictionary inside function with name same as the parameter excluding double asterisk **.\n",
    "\n"
   ]
  },
  {
   "cell_type": "code",
   "execution_count": 11,
   "id": "5d9b5f55-97d0-40c7-a380-fb59d70e84ab",
   "metadata": {},
   "outputs": [
    {
     "name": "stdout",
     "output_type": "stream",
     "text": [
      "Type of data <class 'dict'>\n",
      "name : Prithwish\n",
      "title : Ghosh\n",
      "phone_num : 9903190961\n",
      "emai_Id : ghoshprithwish@gmail.com\n",
      "Type of data <class 'dict'>\n",
      "name : Pouravi\n",
      "title : Ghosh\n",
      "phone_num : 8276089306\n",
      "emai_Id : pouravighosh@gmail.com\n"
     ]
    }
   ],
   "source": [
    "def intro (**data):\n",
    "    print (\"Type of data\" , type(data))\n",
    "    \n",
    "    for key , value in data.items():\n",
    "        print(\"{} : {}\".format(key,value))\n",
    "intro(name = \"Prithwish\",title = \"Ghosh\",phone_num = 9903190961 , emai_Id = \"ghoshprithwish@gmail.com\")\n",
    "intro(name = \"Pouravi\",title = \"Ghosh\",phone_num = 8276089306, emai_Id = \"pouravighosh@gmail.com\")"
   ]
  },
  {
   "cell_type": "code",
   "execution_count": null,
   "id": "c279e6c9-bc70-4ae0-84be-afaac01bd33a",
   "metadata": {},
   "outputs": [],
   "source": [
    " What is an iterator in python? Name the method used to initialise the iterator object and the method \n",
    "used for iteration. Use these methods to print the first five elements of the given list [2, 4, 6, 8, 10, 12, 14, \n",
    "16, 18, 20]."
   ]
  },
  {
   "cell_type": "code",
   "execution_count": null,
   "id": "1224eca2-9f07-4af7-aa0b-d0c7416acaaa",
   "metadata": {},
   "outputs": [],
   "source": [
    "Iterators are methods that iterate collections like lists, tuples, etc. Using an iterator method, we can loop through an object and return its elements.\n",
    "\n",
    "Technically, a Python iterator object must implement two special methods, __iter__() and __next__(), collectively called the iterator protocol."
   ]
  },
  {
   "cell_type": "code",
   "execution_count": null,
   "id": "b3f3d60c-f40f-432e-bdb4-0351a310307c",
   "metadata": {},
   "outputs": [],
   "source": [
    "The iter() method is used to initialize the iterator object. Iteration is accomplished through the usage of the next() method."
   ]
  },
  {
   "cell_type": "code",
   "execution_count": 12,
   "id": "7297c4e1-ff9e-45c1-bc7f-cf2aee4fea4a",
   "metadata": {},
   "outputs": [],
   "source": [
    "l = [2, 4, 6, 8, 10, 12, 14, 16, 18, 20]\n",
    "nums = iter (l)\n"
   ]
  },
  {
   "cell_type": "code",
   "execution_count": 13,
   "id": "8b3523d8-9489-4b4f-a201-5879a85cb493",
   "metadata": {},
   "outputs": [
    {
     "name": "stdout",
     "output_type": "stream",
     "text": [
      "2\n",
      "4\n",
      "6\n",
      "8\n",
      "10\n"
     ]
    }
   ],
   "source": [
    "print(next(nums))\n",
    "print(next(nums))\n",
    "print(next(nums))\n",
    "print(next(nums))\n",
    "print(next(nums))"
   ]
  },
  {
   "cell_type": "code",
   "execution_count": null,
   "id": "f202d2ab-28eb-41e6-8ec5-00cace4191a7",
   "metadata": {},
   "outputs": [],
   "source": [
    " What is a generator function in python? Why yield keyword is used? Give an example of a generator \n",
    "function"
   ]
  },
  {
   "cell_type": "code",
   "execution_count": null,
   "id": "f54df094-9d5a-448b-b2d2-c180b1b8b895",
   "metadata": {},
   "outputs": [],
   "source": [
    "Generator-Function: A generator-function is defined like a normal function, but whenever it needs to generate a value, it does so with the yield keyword rather than return. If the body of a def contains yield, the function automatically becomes a generator function. "
   ]
  },
  {
   "cell_type": "code",
   "execution_count": null,
   "id": "7756de73-9e37-44a0-b788-a4179347aaf3",
   "metadata": {},
   "outputs": [],
   "source": [
    "Return sends a specified value back to its caller whereas Yield can produce a sequence of values. We should use yield when we want to iterate over a sequence, but don’t want to store the entire sequence in memory.\n",
    "The yield statement suspends a function’s execution and sends a value back to the caller, but retains enough state to enable the function to resume where it left off. When the function resumes, it continues execution immediately after the last yield run.\n"
   ]
  },
  {
   "cell_type": "code",
   "execution_count": 15,
   "id": "10f0a53a-005f-44fc-989a-10fe8f8b8552",
   "metadata": {},
   "outputs": [],
   "source": [
    "def fabo_series(N):\n",
    "    a=0\n",
    "    b=1\n",
    "    for i in range(N+1):\n",
    "        yield a\n",
    "        a,b = b , a+b"
   ]
  },
  {
   "cell_type": "code",
   "execution_count": 16,
   "id": "84ca004f-b14f-4fae-91e7-5fb1c17ae5e9",
   "metadata": {},
   "outputs": [
    {
     "name": "stdout",
     "output_type": "stream",
     "text": [
      "0\n",
      "1\n",
      "1\n",
      "2\n",
      "3\n",
      "5\n",
      "8\n",
      "13\n",
      "21\n",
      "34\n",
      "55\n"
     ]
    }
   ],
   "source": [
    "for i in fabo_series(10):\n",
    "    print(i)"
   ]
  },
  {
   "cell_type": "code",
   "execution_count": null,
   "id": "f78c1d74-12a8-40a9-8135-13cf8a8f66ab",
   "metadata": {},
   "outputs": [],
   "source": [
    "Create a generator function for prime numbers less than 1000. Use the next() method to print the \n",
    "first 20 prime numbers"
   ]
  },
  {
   "cell_type": "code",
   "execution_count": 1,
   "id": "8f242dbf-2a72-4b12-a4ba-33bf23ed168d",
   "metadata": {},
   "outputs": [
    {
     "name": "stdout",
     "output_type": "stream",
     "text": [
      "2\n",
      "3\n",
      "5\n",
      "7\n",
      "11\n",
      "13\n",
      "17\n",
      "19\n",
      "23\n",
      "29\n",
      "31\n",
      "37\n",
      "41\n",
      "43\n",
      "47\n",
      "53\n",
      "59\n",
      "61\n",
      "67\n",
      "71\n",
      "73\n"
     ]
    }
   ],
   "source": [
    "def prime_nums():\n",
    "    for i in range(1000):\n",
    "        count = 0\n",
    "        for y in range (1,i+1):\n",
    "            if (i%y == 0):\n",
    "                count = count+1\n",
    "        \n",
    "        if count == 2 :\n",
    "            \n",
    "            yield i\n",
    "            \n",
    "            \n",
    "prime_iter = iter(prime_nums())\n",
    "for i in range (21):\n",
    "    print(next(prime_iter))"
   ]
  },
  {
   "cell_type": "code",
   "execution_count": null,
   "id": "2c6843bc-e170-451a-9b9f-b779bf587948",
   "metadata": {},
   "outputs": [],
   "source": [
    "Write a python program to print the first 10 Fibonacci numbers using a while loop."
   ]
  },
  {
   "cell_type": "code",
   "execution_count": 2,
   "id": "1320cfd0-192f-42e7-989b-0afe2e4a0a6a",
   "metadata": {},
   "outputs": [
    {
     "name": "stdout",
     "output_type": "stream",
     "text": [
      "0\n",
      "1\n",
      "1\n",
      "2\n",
      "3\n",
      "5\n",
      "8\n",
      "13\n",
      "21\n",
      "34\n"
     ]
    }
   ],
   "source": [
    "i = 0\n",
    "a = 0\n",
    "b = 1\n",
    "while i < 10:\n",
    "    \n",
    "    print (a)\n",
    "    a , b = b , a+b\n",
    "    i=i+1"
   ]
  },
  {
   "cell_type": "code",
   "execution_count": null,
   "id": "c0e90fc3-4742-4312-9d53-1745e7dc1250",
   "metadata": {},
   "outputs": [],
   "source": [
    " Write a List Comprehension to iterate through the given string: ‘pwskills’.\n",
    "\n",
    "Expected output: ['p', 'w', 's', 'k', 'i', 'l', 'l', 's'] "
   ]
  },
  {
   "cell_type": "code",
   "execution_count": 3,
   "id": "3baee565-bf06-40ad-8ad5-1d9673c3b635",
   "metadata": {},
   "outputs": [
    {
     "data": {
      "text/plain": [
       "['p', 'w', 's', 'k', 'i', 'l', 'l', 's']"
      ]
     },
     "execution_count": 3,
     "metadata": {},
     "output_type": "execute_result"
    }
   ],
   "source": [
    "s = \"pwskills\"\n",
    "l=[]\n",
    "for i in range(len(s)):\n",
    "    l.append(s[i])\n",
    "    \n",
    "l"
   ]
  },
  {
   "cell_type": "code",
   "execution_count": null,
   "id": "bd8abad1-ed63-4314-9818-6ae467e93ca9",
   "metadata": {},
   "outputs": [],
   "source": [
    "Write a python program to check whether a given number is Palindrome or not using a while loop"
   ]
  },
  {
   "cell_type": "code",
   "execution_count": 11,
   "id": "584246c7-6441-4413-8479-6b62ef1fff91",
   "metadata": {},
   "outputs": [
    {
     "name": "stdin",
     "output_type": "stream",
     "text": [
      "given number 121\n"
     ]
    },
    {
     "name": "stdout",
     "output_type": "stream",
     "text": [
      "yes\n"
     ]
    }
   ],
   "source": [
    "N = int(input(\"given number\"))\n",
    "#x = int(N)\n",
    "temp = N\n",
    "nums = 0\n",
    "while N>0:\n",
    "    y = N%10\n",
    "    nums = nums*10+y\n",
    "    N = N//10\n",
    "\n",
    "if (temp == nums):\n",
    "    \n",
    "    print (\"yes\")\n",
    "else:\n",
    "    print (\"no\")\n",
    "\n",
    "    "
   ]
  },
  {
   "cell_type": "code",
   "execution_count": null,
   "id": "46d1629c-49f7-4dd9-9b55-59f30091eb80",
   "metadata": {},
   "outputs": [],
   "source": [
    " Write a code to print odd numbers from 1 to 100 using list comprehension."
   ]
  },
  {
   "cell_type": "code",
   "execution_count": 19,
   "id": "b7354b80-f265-44df-8337-af4a6c5a6f67",
   "metadata": {},
   "outputs": [],
   "source": [
    "l = []\n",
    "l1 =[]\n",
    "for i in range( 1,101):\n",
    "    l.append(i )\n",
    "    \n",
    "for i in range (len (l)):\n",
    "    if (i%2!=0):\n",
    "        l1.append(i)\n",
    "        \n",
    "\n"
   ]
  },
  {
   "cell_type": "code",
   "execution_count": 20,
   "id": "5aec6340-e59d-4984-9a89-99f9849027d8",
   "metadata": {},
   "outputs": [
    {
     "name": "stdout",
     "output_type": "stream",
     "text": [
      "[1, 2, 3, 4, 5, 6, 7, 8, 9, 10, 11, 12, 13, 14, 15, 16, 17, 18, 19, 20, 21, 22, 23, 24, 25, 26, 27, 28, 29, 30, 31, 32, 33, 34, 35, 36, 37, 38, 39, 40, 41, 42, 43, 44, 45, 46, 47, 48, 49, 50, 51, 52, 53, 54, 55, 56, 57, 58, 59, 60, 61, 62, 63, 64, 65, 66, 67, 68, 69, 70, 71, 72, 73, 74, 75, 76, 77, 78, 79, 80, 81, 82, 83, 84, 85, 86, 87, 88, 89, 90, 91, 92, 93, 94, 95, 96, 97, 98, 99, 100]\n"
     ]
    }
   ],
   "source": [
    "print(l)"
   ]
  },
  {
   "cell_type": "code",
   "execution_count": 21,
   "id": "9b97ba7e-3ed5-494c-9076-c330d6955c3f",
   "metadata": {},
   "outputs": [
    {
     "name": "stdout",
     "output_type": "stream",
     "text": [
      "[1, 3, 5, 7, 9, 11, 13, 15, 17, 19, 21, 23, 25, 27, 29, 31, 33, 35, 37, 39, 41, 43, 45, 47, 49, 51, 53, 55, 57, 59, 61, 63, 65, 67, 69, 71, 73, 75, 77, 79, 81, 83, 85, 87, 89, 91, 93, 95, 97, 99]\n"
     ]
    }
   ],
   "source": [
    "print(l1)"
   ]
  },
  {
   "cell_type": "code",
   "execution_count": null,
   "id": "b1670d12-5a9e-4d67-8558-87ec5ac314ed",
   "metadata": {},
   "outputs": [],
   "source": []
  }
 ],
 "metadata": {
  "kernelspec": {
   "display_name": "Python 3 (ipykernel)",
   "language": "python",
   "name": "python3"
  },
  "language_info": {
   "codemirror_mode": {
    "name": "ipython",
    "version": 3
   },
   "file_extension": ".py",
   "mimetype": "text/x-python",
   "name": "python",
   "nbconvert_exporter": "python",
   "pygments_lexer": "ipython3",
   "version": "3.10.6"
  }
 },
 "nbformat": 4,
 "nbformat_minor": 5
}
