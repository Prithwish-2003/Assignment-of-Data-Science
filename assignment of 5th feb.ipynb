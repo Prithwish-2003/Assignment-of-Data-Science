{
 "cells": [
  {
   "cell_type": "code",
   "execution_count": null,
   "id": "6a41b4ed-a35d-437f-bb18-11dbcdc56028",
   "metadata": {},
   "outputs": [],
   "source": [
    "Explain Class and Object with respect to Object-Oriented Programming. Give a suitable example."
   ]
  },
  {
   "cell_type": "code",
   "execution_count": null,
   "id": "61b33a5d-b466-4e63-a692-ef1f7f622005",
   "metadata": {},
   "outputs": [],
   "source": [
    "Object − Objects have states and behaviors. Example: A dog has states - color, name, breed \n",
    "as well as behaviors – wagging the tail, barking, eating. \n",
    "An object is an instance of a class.\n",
    "Class − A class can be defined as a template/blueprint that describes the behavior/state\n",
    "that the object of its type support."
   ]
  },
  {
   "cell_type": "code",
   "execution_count": null,
   "id": "bba6f3dd-1949-43e3-a889-466e851f61c7",
   "metadata": {},
   "outputs": [],
   "source": [
    "Name the four pillars of OOPs."
   ]
  },
  {
   "cell_type": "code",
   "execution_count": null,
   "id": "52dc90b0-247a-4991-925d-029e3f1ae4a7",
   "metadata": {},
   "outputs": [],
   "source": [
    "These four pillars are Inheritance, Polymorphism, Encapsulation and Abstraction"
   ]
  },
  {
   "cell_type": "code",
   "execution_count": null,
   "id": "6353a866-1f11-4923-b9e8-89353f7df11c",
   "metadata": {},
   "outputs": [],
   "source": [
    "Explain why the __init__() function is used. Give a suitable example."
   ]
  },
  {
   "cell_type": "code",
   "execution_count": null,
   "id": "994f4761-722f-4501-ae96-800a8b2a4157",
   "metadata": {},
   "outputs": [],
   "source": [
    "The __init__ function is called every time an object is created from a class.\n",
    "The __init__ method lets the class initialize the object's attributes and serves no other purpose.\n",
    "It is only used within classes.\n"
   ]
  },
  {
   "cell_type": "code",
   "execution_count": 1,
   "id": "1fc3aa40-4a84-442e-a516-61f3dd183cbd",
   "metadata": {},
   "outputs": [],
   "source": [
    "class pwskills1:\n",
    "    def __init__(self,name,email):\n",
    "        self.name=name;\n",
    "        self.email=email;\n",
    "    def students_details(self):\n",
    "        print(self.name,self.email)"
   ]
  },
  {
   "cell_type": "code",
   "execution_count": 3,
   "id": "25b7ab36-26a3-434f-9ded-eb68c264a314",
   "metadata": {},
   "outputs": [],
   "source": [
    "pw=pwskills1(\"mohan\",\"mohan@gmail.com\")"
   ]
  },
  {
   "cell_type": "code",
   "execution_count": 4,
   "id": "c62ef66d-053c-420b-8d7a-8c06ea1fc702",
   "metadata": {},
   "outputs": [
    {
     "data": {
      "text/plain": [
       "'mohan'"
      ]
     },
     "execution_count": 4,
     "metadata": {},
     "output_type": "execute_result"
    }
   ],
   "source": [
    "pw.name"
   ]
  },
  {
   "cell_type": "code",
   "execution_count": null,
   "id": "f898dcca-6e32-4304-821b-556ec87902c2",
   "metadata": {},
   "outputs": [],
   "source": [
    "Why self is used in OOPs?"
   ]
  },
  {
   "cell_type": "code",
   "execution_count": null,
   "id": "3a4327c4-226b-4a99-a6d9-75bda477c452",
   "metadata": {},
   "outputs": [],
   "source": [
    "The self variable is used to represent the instance of the class\n",
    "which is often used in object-oriented programming. It works as a reference to the object. Python uses the self parameter to refer to instance attributes and methods of the class."
   ]
  },
  {
   "cell_type": "code",
   "execution_count": null,
   "id": "755c401f-d695-4ab9-8c50-44e6ba4c70cd",
   "metadata": {},
   "outputs": [],
   "source": [
    "What is inheritance? Give an example for each type of inheritance."
   ]
  },
  {
   "cell_type": "code",
   "execution_count": null,
   "id": "dbbc3c15-10c9-467e-b2b3-1aa8859d88fd",
   "metadata": {},
   "outputs": [],
   "source": [
    "Inheritance is a mechanism in which one class acquires the property of another class. "
   ]
  },
  {
   "cell_type": "code",
   "execution_count": null,
   "id": "6b270d08-cd36-4416-8031-c76631e62a91",
   "metadata": {},
   "outputs": [],
   "source": [
    "Two type of inhertance are\n",
    "multilevel inheritance\n",
    "multiple inheritance"
   ]
  },
  {
   "cell_type": "code",
   "execution_count": null,
   "id": "d693193f-4798-4e6c-ae69-01727bb52890",
   "metadata": {},
   "outputs": [],
   "source": [
    "multilevel inheritance"
   ]
  },
  {
   "cell_type": "code",
   "execution_count": 5,
   "id": "707e9bb7-7a39-44da-87b5-2609101386f3",
   "metadata": {},
   "outputs": [],
   "source": [
    "class class1:\n",
    "    def test_class1(self):\n",
    "        return \"my name is pouravi\""
   ]
  },
  {
   "cell_type": "code",
   "execution_count": 14,
   "id": "52d53e53-34eb-4c44-8e5f-8723731bfee4",
   "metadata": {},
   "outputs": [],
   "source": [
    "class class2(class1):\n",
    "    def test_class2(self):\n",
    "        return \"my brother name is prithwish\""
   ]
  },
  {
   "cell_type": "code",
   "execution_count": 15,
   "id": "a25d0c5e-716b-433a-b05b-d26c9e26ded5",
   "metadata": {},
   "outputs": [],
   "source": [
    "class class3(class2):\n",
    "    pass"
   ]
  },
  {
   "cell_type": "code",
   "execution_count": 16,
   "id": "de9a7292-0c1a-4f5c-bf40-15f95522c22c",
   "metadata": {},
   "outputs": [],
   "source": [
    "obj_class3=class3()"
   ]
  },
  {
   "cell_type": "code",
   "execution_count": 17,
   "id": "b696444b-ae3c-416f-8137-cfc21d301d93",
   "metadata": {},
   "outputs": [
    {
     "data": {
      "text/plain": [
       "'my brother name is prithwish'"
      ]
     },
     "execution_count": 17,
     "metadata": {},
     "output_type": "execute_result"
    }
   ],
   "source": [
    "obj_class3.test_class2()"
   ]
  },
  {
   "cell_type": "code",
   "execution_count": 19,
   "id": "51139340-1149-410f-89cb-86bd7a49757a",
   "metadata": {},
   "outputs": [
    {
     "data": {
      "text/plain": [
       "'my name is pouravi'"
      ]
     },
     "execution_count": 19,
     "metadata": {},
     "output_type": "execute_result"
    }
   ],
   "source": [
    "obj_class3.test_class1()"
   ]
  },
  {
   "cell_type": "code",
   "execution_count": null,
   "id": "c7b483e6-7727-46e8-8822-b71c1a9e584d",
   "metadata": {},
   "outputs": [],
   "source": [
    "multiple inheritance"
   ]
  },
  {
   "cell_type": "code",
   "execution_count": 20,
   "id": "b6c1bde0-7658-4ace-a6c1-be9f44702069",
   "metadata": {},
   "outputs": [],
   "source": [
    "class class1:\n",
    "    def test_class1(self):\n",
    "        return \"my name is pouravi\""
   ]
  },
  {
   "cell_type": "code",
   "execution_count": 21,
   "id": "c1f98fc1-7f81-4530-979f-ce75681ce57e",
   "metadata": {},
   "outputs": [],
   "source": [
    "class class2:\n",
    "    def test_class2(self):\n",
    "        return \"my brother name is prithwish\""
   ]
  },
  {
   "cell_type": "code",
   "execution_count": 22,
   "id": "3209fecc-fafb-487b-a79e-9d1010a566f9",
   "metadata": {},
   "outputs": [],
   "source": [
    "class class3(class1,class2):\n",
    "    pass"
   ]
  },
  {
   "cell_type": "code",
   "execution_count": 23,
   "id": "1579b04c-5850-4599-a6d4-184b46bbbe08",
   "metadata": {},
   "outputs": [],
   "source": [
    "obj_class3=class3()"
   ]
  },
  {
   "cell_type": "code",
   "execution_count": 24,
   "id": "c99eead6-457e-498b-8ec2-5d5ae3d4fb72",
   "metadata": {},
   "outputs": [
    {
     "data": {
      "text/plain": [
       "'my brother name is prithwish'"
      ]
     },
     "execution_count": 24,
     "metadata": {},
     "output_type": "execute_result"
    }
   ],
   "source": [
    "obj_class3.test_class2()"
   ]
  },
  {
   "cell_type": "code",
   "execution_count": 25,
   "id": "a270a8f5-d538-4e6f-9b0f-7370b419b7bc",
   "metadata": {},
   "outputs": [
    {
     "data": {
      "text/plain": [
       "'my name is pouravi'"
      ]
     },
     "execution_count": 25,
     "metadata": {},
     "output_type": "execute_result"
    }
   ],
   "source": [
    "obj_class3.test_class1()"
   ]
  },
  {
   "cell_type": "code",
   "execution_count": null,
   "id": "e9dca2e8-1706-429c-94f5-e98527f769e8",
   "metadata": {},
   "outputs": [],
   "source": []
  }
 ],
 "metadata": {
  "kernelspec": {
   "display_name": "Python 3 (ipykernel)",
   "language": "python",
   "name": "python3"
  },
  "language_info": {
   "codemirror_mode": {
    "name": "ipython",
    "version": 3
   },
   "file_extension": ".py",
   "mimetype": "text/x-python",
   "name": "python",
   "nbconvert_exporter": "python",
   "pygments_lexer": "ipython3",
   "version": "3.10.6"
  }
 },
 "nbformat": 4,
 "nbformat_minor": 5
}
